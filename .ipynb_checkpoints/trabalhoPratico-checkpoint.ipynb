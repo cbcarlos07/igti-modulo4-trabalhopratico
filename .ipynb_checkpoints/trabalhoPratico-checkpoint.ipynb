{
 "cells": [
  {
   "cell_type": "code",
   "execution_count": 2,
   "id": "4953f50a-53e4-491c-9b7e-83f232ead6e9",
   "metadata": {},
   "outputs": [],
   "source": [
    "import pandas as pd\n",
    "import numpy as np\n",
    "import zipfile\n",
    "import requests\n",
    "from io import BytesIO\n",
    "import os"
   ]
  },
  {
   "cell_type": "code",
   "execution_count": 2,
   "id": "96058dca-7373-4085-966d-d61b87d3313a",
   "metadata": {},
   "outputs": [],
   "source": [
    "# Criar um diretório para armazenar o conteúdo do ENEM\n",
    "os.makedirs('enem2020', exist_ok=True)"
   ]
  },
  {
   "cell_type": "code",
   "execution_count": 4,
   "id": "515697e2-2fed-4732-9c9f-b73ac27ced52",
   "metadata": {},
   "outputs": [],
   "source": [
    "# define a url \n",
    "url = \"https://download.inep.gov.br/microdados/microdados_enem_2020.zip\"\n",
    "\n",
    "# Faz o download do conteudo\n",
    "filebytes = BytesIO(\n",
    " requests.get(url).content        \n",
    ")\n",
    "\n",
    "# Extrair o conteudo do zipfile\n",
    "myzip = zipfile.ZipFile(filebytes)\n",
    "myzip.extractall(\"./enem2020\")"
   ]
  },
  {
   "cell_type": "code",
   "execution_count": null,
   "id": "c499ecbb-fa51-4f22-847a-a66cc12a4c7e",
   "metadata": {},
   "outputs": [],
   "source": [
    "enem = pd.read_csv(\n",
    "  \"./enem2020/DADOS/MICRODADOS_ENEM_2020.csv\",\n",
    "    sep = \";\", decimal = \",\", encoding='latin1'\n",
    ")"
   ]
  },
  {
   "cell_type": "code",
   "execution_count": null,
   "id": "7c2f2d6d-cabc-48a0-a540-921deccaf739",
   "metadata": {},
   "outputs": [],
   "source": []
  }
 ],
 "metadata": {
  "kernelspec": {
   "display_name": "Python 3 (ipykernel)",
   "language": "python",
   "name": "python3"
  },
  "language_info": {
   "codemirror_mode": {
    "name": "ipython",
    "version": 3
   },
   "file_extension": ".py",
   "mimetype": "text/x-python",
   "name": "python",
   "nbconvert_exporter": "python",
   "pygments_lexer": "ipython3",
   "version": "3.8.10"
  }
 },
 "nbformat": 4,
 "nbformat_minor": 5
}
