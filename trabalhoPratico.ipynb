{
 "cells": [
  {
   "cell_type": "code",
   "execution_count": null,
   "id": "4953f50a-53e4-491c-9b7e-83f232ead6e9",
   "metadata": {},
   "outputs": [],
   "source": [
    "import pandas as pd\n",
    "import numpy as np\n",
    "import zipfile\n",
    "import requests\n",
    "from io import BytesIO\n",
    "import os"
   ]
  },
  {
   "cell_type": "code",
   "execution_count": 2,
   "id": "96058dca-7373-4085-966d-d61b87d3313a",
   "metadata": {},
   "outputs": [],
   "source": [
    "# Criar um diretório para armazenar o conteúdo do ENEM\n",
    "os.makedirs('enem2020', exist_ok=True)"
   ]
  },
  {
   "cell_type": "code",
   "execution_count": 4,
   "id": "515697e2-2fed-4732-9c9f-b73ac27ced52",
   "metadata": {},
   "outputs": [],
   "source": [
    "# define a url \n",
    "url = \"https://download.inep.gov.br/microdados/microdados_enem_2020.zip\"\n",
    "\n",
    "# Faz o download do conteudo\n",
    "filebytes = BytesIO(\n",
    " requests.get(url).content        \n",
    ")\n",
    "\n",
    "# Extrair o conteudo do zipfile\n",
    "myzip = zipfile.ZipFile(filebytes)\n",
    "myzip.extractall(\"./enem2020\")"
   ]
  },
  {
   "cell_type": "code",
   "execution_count": 7,
   "id": "c499ecbb-fa51-4f22-847a-a66cc12a4c7e",
   "metadata": {},
   "outputs": [],
   "source": [
    "source = './enem2020/DADOS/MICRODADOS_ENEM_2020.csv'\n",
    "enem = pd.read_csv(source,encoding=\"ISO-8859-1\",delimiter=\";\",\n",
    "                    usecols=['NU_NOTA_MT','SG_UF_ESC','NU_NOTA_CN','NU_NOTA_CH','NU_NOTA_LC',\n",
    "                            'TP_SEXO','NO_MUNICIPIO_ESC','Q021','Q016','Q002','Q005','Q001','Q006',\n",
    "                            'TP_LINGUA','TP_FAIXA_ETARIA','TP_ESCOLA'])\n"
   ]
  },
  {
   "cell_type": "code",
   "execution_count": 8,
   "id": "1e4e567e-e1cf-4132-ab12-fd6379dfe72a",
   "metadata": {},
   "outputs": [
    {
     "name": "stdout",
     "output_type": "stream",
     "text": [
      "<class 'pandas.core.frame.DataFrame'>\n",
      "RangeIndex: 5783109 entries, 0 to 5783108\n",
      "Data columns (total 16 columns):\n",
      " #   Column            Dtype  \n",
      "---  ------            -----  \n",
      " 0   TP_FAIXA_ETARIA   int64  \n",
      " 1   TP_SEXO           object \n",
      " 2   TP_ESCOLA         int64  \n",
      " 3   NO_MUNICIPIO_ESC  object \n",
      " 4   SG_UF_ESC         object \n",
      " 5   NU_NOTA_CN        float64\n",
      " 6   NU_NOTA_CH        float64\n",
      " 7   NU_NOTA_LC        float64\n",
      " 8   NU_NOTA_MT        float64\n",
      " 9   TP_LINGUA         int64  \n",
      " 10  Q001              object \n",
      " 11  Q002              object \n",
      " 12  Q005              float64\n",
      " 13  Q006              object \n",
      " 14  Q016              object \n",
      " 15  Q021              object \n",
      "dtypes: float64(5), int64(3), object(8)\n",
      "memory usage: 705.9+ MB\n"
     ]
    }
   ],
   "source": [
    "enem.info()"
   ]
  },
  {
   "cell_type": "code",
   "execution_count": 4,
   "id": "28d329a2-9554-4040-8583-87b5eae13530",
   "metadata": {},
   "outputs": [
    {
     "data": {
      "text/html": [
       "<div>\n",
       "<style scoped>\n",
       "    .dataframe tbody tr th:only-of-type {\n",
       "        vertical-align: middle;\n",
       "    }\n",
       "\n",
       "    .dataframe tbody tr th {\n",
       "        vertical-align: top;\n",
       "    }\n",
       "\n",
       "    .dataframe thead th {\n",
       "        text-align: right;\n",
       "    }\n",
       "</style>\n",
       "<table border=\"1\" class=\"dataframe\">\n",
       "  <thead>\n",
       "    <tr style=\"text-align: right;\">\n",
       "      <th></th>\n",
       "      <th>NU_INSCRICAO</th>\n",
       "      <th>NU_ANO</th>\n",
       "      <th>TP_FAIXA_ETARIA</th>\n",
       "      <th>TP_SEXO</th>\n",
       "      <th>TP_ESTADO_CIVIL</th>\n",
       "      <th>TP_COR_RACA</th>\n",
       "      <th>TP_NACIONALIDADE</th>\n",
       "      <th>TP_ST_CONCLUSAO</th>\n",
       "      <th>TP_ANO_CONCLUIU</th>\n",
       "      <th>TP_ESCOLA</th>\n",
       "      <th>...</th>\n",
       "      <th>Q016</th>\n",
       "      <th>Q017</th>\n",
       "      <th>Q018</th>\n",
       "      <th>Q019</th>\n",
       "      <th>Q020</th>\n",
       "      <th>Q021</th>\n",
       "      <th>Q022</th>\n",
       "      <th>Q023</th>\n",
       "      <th>Q024</th>\n",
       "      <th>Q025</th>\n",
       "    </tr>\n",
       "  </thead>\n",
       "  <tbody>\n",
       "    <tr>\n",
       "      <th>0</th>\n",
       "      <td>200006271946</td>\n",
       "      <td>2020</td>\n",
       "      <td>11</td>\n",
       "      <td>F</td>\n",
       "      <td>1</td>\n",
       "      <td>2</td>\n",
       "      <td>1</td>\n",
       "      <td>1</td>\n",
       "      <td>11</td>\n",
       "      <td>1</td>\n",
       "      <td>...</td>\n",
       "      <td>NaN</td>\n",
       "      <td>NaN</td>\n",
       "      <td>NaN</td>\n",
       "      <td>NaN</td>\n",
       "      <td>NaN</td>\n",
       "      <td>NaN</td>\n",
       "      <td>NaN</td>\n",
       "      <td>NaN</td>\n",
       "      <td>NaN</td>\n",
       "      <td>NaN</td>\n",
       "    </tr>\n",
       "    <tr>\n",
       "      <th>1</th>\n",
       "      <td>200001195856</td>\n",
       "      <td>2020</td>\n",
       "      <td>11</td>\n",
       "      <td>M</td>\n",
       "      <td>2</td>\n",
       "      <td>3</td>\n",
       "      <td>1</td>\n",
       "      <td>1</td>\n",
       "      <td>11</td>\n",
       "      <td>1</td>\n",
       "      <td>...</td>\n",
       "      <td>NaN</td>\n",
       "      <td>NaN</td>\n",
       "      <td>NaN</td>\n",
       "      <td>NaN</td>\n",
       "      <td>NaN</td>\n",
       "      <td>NaN</td>\n",
       "      <td>NaN</td>\n",
       "      <td>NaN</td>\n",
       "      <td>NaN</td>\n",
       "      <td>NaN</td>\n",
       "    </tr>\n",
       "    <tr>\n",
       "      <th>2</th>\n",
       "      <td>200001943954</td>\n",
       "      <td>2020</td>\n",
       "      <td>4</td>\n",
       "      <td>F</td>\n",
       "      <td>2</td>\n",
       "      <td>3</td>\n",
       "      <td>2</td>\n",
       "      <td>2</td>\n",
       "      <td>0</td>\n",
       "      <td>2</td>\n",
       "      <td>...</td>\n",
       "      <td>B</td>\n",
       "      <td>A</td>\n",
       "      <td>A</td>\n",
       "      <td>B</td>\n",
       "      <td>A</td>\n",
       "      <td>A</td>\n",
       "      <td>A</td>\n",
       "      <td>A</td>\n",
       "      <td>A</td>\n",
       "      <td>A</td>\n",
       "    </tr>\n",
       "    <tr>\n",
       "      <th>3</th>\n",
       "      <td>200001908998</td>\n",
       "      <td>2020</td>\n",
       "      <td>2</td>\n",
       "      <td>M</td>\n",
       "      <td>1</td>\n",
       "      <td>3</td>\n",
       "      <td>1</td>\n",
       "      <td>2</td>\n",
       "      <td>0</td>\n",
       "      <td>2</td>\n",
       "      <td>...</td>\n",
       "      <td>NaN</td>\n",
       "      <td>NaN</td>\n",
       "      <td>NaN</td>\n",
       "      <td>NaN</td>\n",
       "      <td>NaN</td>\n",
       "      <td>NaN</td>\n",
       "      <td>NaN</td>\n",
       "      <td>NaN</td>\n",
       "      <td>NaN</td>\n",
       "      <td>NaN</td>\n",
       "    </tr>\n",
       "    <tr>\n",
       "      <th>4</th>\n",
       "      <td>200001634757</td>\n",
       "      <td>2020</td>\n",
       "      <td>4</td>\n",
       "      <td>F</td>\n",
       "      <td>1</td>\n",
       "      <td>3</td>\n",
       "      <td>2</td>\n",
       "      <td>1</td>\n",
       "      <td>1</td>\n",
       "      <td>1</td>\n",
       "      <td>...</td>\n",
       "      <td>A</td>\n",
       "      <td>A</td>\n",
       "      <td>A</td>\n",
       "      <td>B</td>\n",
       "      <td>A</td>\n",
       "      <td>B</td>\n",
       "      <td>B</td>\n",
       "      <td>A</td>\n",
       "      <td>A</td>\n",
       "      <td>B</td>\n",
       "    </tr>\n",
       "    <tr>\n",
       "      <th>...</th>\n",
       "      <td>...</td>\n",
       "      <td>...</td>\n",
       "      <td>...</td>\n",
       "      <td>...</td>\n",
       "      <td>...</td>\n",
       "      <td>...</td>\n",
       "      <td>...</td>\n",
       "      <td>...</td>\n",
       "      <td>...</td>\n",
       "      <td>...</td>\n",
       "      <td>...</td>\n",
       "      <td>...</td>\n",
       "      <td>...</td>\n",
       "      <td>...</td>\n",
       "      <td>...</td>\n",
       "      <td>...</td>\n",
       "      <td>...</td>\n",
       "      <td>...</td>\n",
       "      <td>...</td>\n",
       "      <td>...</td>\n",
       "      <td>...</td>\n",
       "    </tr>\n",
       "    <tr>\n",
       "      <th>5783104</th>\n",
       "      <td>200003396891</td>\n",
       "      <td>2020</td>\n",
       "      <td>2</td>\n",
       "      <td>F</td>\n",
       "      <td>1</td>\n",
       "      <td>1</td>\n",
       "      <td>1</td>\n",
       "      <td>2</td>\n",
       "      <td>0</td>\n",
       "      <td>2</td>\n",
       "      <td>...</td>\n",
       "      <td>B</td>\n",
       "      <td>A</td>\n",
       "      <td>A</td>\n",
       "      <td>B</td>\n",
       "      <td>A</td>\n",
       "      <td>A</td>\n",
       "      <td>D</td>\n",
       "      <td>A</td>\n",
       "      <td>B</td>\n",
       "      <td>B</td>\n",
       "    </tr>\n",
       "    <tr>\n",
       "      <th>5783105</th>\n",
       "      <td>200006040822</td>\n",
       "      <td>2020</td>\n",
       "      <td>3</td>\n",
       "      <td>M</td>\n",
       "      <td>1</td>\n",
       "      <td>1</td>\n",
       "      <td>1</td>\n",
       "      <td>2</td>\n",
       "      <td>0</td>\n",
       "      <td>2</td>\n",
       "      <td>...</td>\n",
       "      <td>NaN</td>\n",
       "      <td>NaN</td>\n",
       "      <td>NaN</td>\n",
       "      <td>NaN</td>\n",
       "      <td>NaN</td>\n",
       "      <td>NaN</td>\n",
       "      <td>NaN</td>\n",
       "      <td>NaN</td>\n",
       "      <td>NaN</td>\n",
       "      <td>NaN</td>\n",
       "    </tr>\n",
       "    <tr>\n",
       "      <th>5783106</th>\n",
       "      <td>200004928656</td>\n",
       "      <td>2020</td>\n",
       "      <td>3</td>\n",
       "      <td>F</td>\n",
       "      <td>1</td>\n",
       "      <td>1</td>\n",
       "      <td>1</td>\n",
       "      <td>1</td>\n",
       "      <td>1</td>\n",
       "      <td>1</td>\n",
       "      <td>...</td>\n",
       "      <td>NaN</td>\n",
       "      <td>NaN</td>\n",
       "      <td>NaN</td>\n",
       "      <td>NaN</td>\n",
       "      <td>NaN</td>\n",
       "      <td>NaN</td>\n",
       "      <td>NaN</td>\n",
       "      <td>NaN</td>\n",
       "      <td>NaN</td>\n",
       "      <td>NaN</td>\n",
       "    </tr>\n",
       "    <tr>\n",
       "      <th>5783107</th>\n",
       "      <td>200006774808</td>\n",
       "      <td>2020</td>\n",
       "      <td>4</td>\n",
       "      <td>F</td>\n",
       "      <td>1</td>\n",
       "      <td>1</td>\n",
       "      <td>1</td>\n",
       "      <td>2</td>\n",
       "      <td>0</td>\n",
       "      <td>3</td>\n",
       "      <td>...</td>\n",
       "      <td>B</td>\n",
       "      <td>B</td>\n",
       "      <td>B</td>\n",
       "      <td>D</td>\n",
       "      <td>B</td>\n",
       "      <td>B</td>\n",
       "      <td>E</td>\n",
       "      <td>A</td>\n",
       "      <td>D</td>\n",
       "      <td>B</td>\n",
       "    </tr>\n",
       "    <tr>\n",
       "      <th>5783108</th>\n",
       "      <td>200007078230</td>\n",
       "      <td>2020</td>\n",
       "      <td>2</td>\n",
       "      <td>F</td>\n",
       "      <td>1</td>\n",
       "      <td>3</td>\n",
       "      <td>1</td>\n",
       "      <td>2</td>\n",
       "      <td>0</td>\n",
       "      <td>2</td>\n",
       "      <td>...</td>\n",
       "      <td>A</td>\n",
       "      <td>A</td>\n",
       "      <td>A</td>\n",
       "      <td>B</td>\n",
       "      <td>B</td>\n",
       "      <td>A</td>\n",
       "      <td>D</td>\n",
       "      <td>A</td>\n",
       "      <td>A</td>\n",
       "      <td>B</td>\n",
       "    </tr>\n",
       "  </tbody>\n",
       "</table>\n",
       "<p>5783109 rows × 76 columns</p>\n",
       "</div>"
      ],
      "text/plain": [
       "         NU_INSCRICAO  NU_ANO  TP_FAIXA_ETARIA TP_SEXO  TP_ESTADO_CIVIL  \\\n",
       "0        200006271946    2020               11       F                1   \n",
       "1        200001195856    2020               11       M                2   \n",
       "2        200001943954    2020                4       F                2   \n",
       "3        200001908998    2020                2       M                1   \n",
       "4        200001634757    2020                4       F                1   \n",
       "...               ...     ...              ...     ...              ...   \n",
       "5783104  200003396891    2020                2       F                1   \n",
       "5783105  200006040822    2020                3       M                1   \n",
       "5783106  200004928656    2020                3       F                1   \n",
       "5783107  200006774808    2020                4       F                1   \n",
       "5783108  200007078230    2020                2       F                1   \n",
       "\n",
       "         TP_COR_RACA  TP_NACIONALIDADE  TP_ST_CONCLUSAO  TP_ANO_CONCLUIU  \\\n",
       "0                  2                 1                1               11   \n",
       "1                  3                 1                1               11   \n",
       "2                  3                 2                2                0   \n",
       "3                  3                 1                2                0   \n",
       "4                  3                 2                1                1   \n",
       "...              ...               ...              ...              ...   \n",
       "5783104            1                 1                2                0   \n",
       "5783105            1                 1                2                0   \n",
       "5783106            1                 1                1                1   \n",
       "5783107            1                 1                2                0   \n",
       "5783108            3                 1                2                0   \n",
       "\n",
       "         TP_ESCOLA  ...  Q016  Q017  Q018 Q019  Q020 Q021  Q022  Q023  Q024  \\\n",
       "0                1  ...   NaN   NaN   NaN  NaN   NaN  NaN   NaN   NaN   NaN   \n",
       "1                1  ...   NaN   NaN   NaN  NaN   NaN  NaN   NaN   NaN   NaN   \n",
       "2                2  ...     B     A     A    B     A    A     A     A     A   \n",
       "3                2  ...   NaN   NaN   NaN  NaN   NaN  NaN   NaN   NaN   NaN   \n",
       "4                1  ...     A     A     A    B     A    B     B     A     A   \n",
       "...            ...  ...   ...   ...   ...  ...   ...  ...   ...   ...   ...   \n",
       "5783104          2  ...     B     A     A    B     A    A     D     A     B   \n",
       "5783105          2  ...   NaN   NaN   NaN  NaN   NaN  NaN   NaN   NaN   NaN   \n",
       "5783106          1  ...   NaN   NaN   NaN  NaN   NaN  NaN   NaN   NaN   NaN   \n",
       "5783107          3  ...     B     B     B    D     B    B     E     A     D   \n",
       "5783108          2  ...     A     A     A    B     B    A     D     A     A   \n",
       "\n",
       "         Q025  \n",
       "0         NaN  \n",
       "1         NaN  \n",
       "2           A  \n",
       "3         NaN  \n",
       "4           B  \n",
       "...       ...  \n",
       "5783104     B  \n",
       "5783105   NaN  \n",
       "5783106   NaN  \n",
       "5783107     B  \n",
       "5783108     B  \n",
       "\n",
       "[5783109 rows x 76 columns]"
      ]
     },
     "execution_count": 4,
     "metadata": {},
     "output_type": "execute_result"
    }
   ],
   "source": [
    "enem"
   ]
  },
  {
   "cell_type": "code",
   "execution_count": 5,
   "id": "7c2f2d6d-cabc-48a0-a540-921deccaf739",
   "metadata": {},
   "outputs": [
    {
     "name": "stdout",
     "output_type": "stream",
     "text": [
      "<class 'pandas.core.frame.DataFrame'>\n",
      "RangeIndex: 5783109 entries, 0 to 5783108\n",
      "Data columns (total 76 columns):\n",
      " #   Column                  Dtype  \n",
      "---  ------                  -----  \n",
      " 0   NU_INSCRICAO            int64  \n",
      " 1   NU_ANO                  int64  \n",
      " 2   TP_FAIXA_ETARIA         int64  \n",
      " 3   TP_SEXO                 object \n",
      " 4   TP_ESTADO_CIVIL         int64  \n",
      " 5   TP_COR_RACA             int64  \n",
      " 6   TP_NACIONALIDADE        int64  \n",
      " 7   TP_ST_CONCLUSAO         int64  \n",
      " 8   TP_ANO_CONCLUIU         int64  \n",
      " 9   TP_ESCOLA               int64  \n",
      " 10  TP_ENSINO               float64\n",
      " 11  IN_TREINEIRO            int64  \n",
      " 12  CO_MUNICIPIO_ESC        float64\n",
      " 13  NO_MUNICIPIO_ESC        object \n",
      " 14  CO_UF_ESC               float64\n",
      " 15  SG_UF_ESC               object \n",
      " 16  TP_DEPENDENCIA_ADM_ESC  float64\n",
      " 17  TP_LOCALIZACAO_ESC      float64\n",
      " 18  TP_SIT_FUNC_ESC         float64\n",
      " 19  CO_MUNICIPIO_PROVA      int64  \n",
      " 20  NO_MUNICIPIO_PROVA      object \n",
      " 21  CO_UF_PROVA             int64  \n",
      " 22  SG_UF_PROVA             object \n",
      " 23  TP_PRESENCA_CN          int64  \n",
      " 24  TP_PRESENCA_CH          int64  \n",
      " 25  TP_PRESENCA_LC          int64  \n",
      " 26  TP_PRESENCA_MT          int64  \n",
      " 27  CO_PROVA_CN             float64\n",
      " 28  CO_PROVA_CH             float64\n",
      " 29  CO_PROVA_LC             float64\n",
      " 30  CO_PROVA_MT             float64\n",
      " 31  NU_NOTA_CN              object \n",
      " 32  NU_NOTA_CH              object \n",
      " 33  NU_NOTA_LC              object \n",
      " 34  NU_NOTA_MT              object \n",
      " 35  TX_RESPOSTAS_CN         object \n",
      " 36  TX_RESPOSTAS_CH         object \n",
      " 37  TX_RESPOSTAS_LC         object \n",
      " 38  TX_RESPOSTAS_MT         object \n",
      " 39  TP_LINGUA               int64  \n",
      " 40  TX_GABARITO_CN          object \n",
      " 41  TX_GABARITO_CH          object \n",
      " 42  TX_GABARITO_LC          object \n",
      " 43  TX_GABARITO_MT          object \n",
      " 44  TP_STATUS_REDACAO       float64\n",
      " 45  NU_NOTA_COMP1           float64\n",
      " 46  NU_NOTA_COMP2           float64\n",
      " 47  NU_NOTA_COMP3           float64\n",
      " 48  NU_NOTA_COMP4           float64\n",
      " 49  NU_NOTA_COMP5           float64\n",
      " 50  NU_NOTA_REDACAO         float64\n",
      " 51  Q001                    object \n",
      " 52  Q002                    object \n",
      " 53  Q003                    object \n",
      " 54  Q004                    object \n",
      " 55  Q005                    float64\n",
      " 56  Q006                    object \n",
      " 57  Q007                    object \n",
      " 58  Q008                    object \n",
      " 59  Q009                    object \n",
      " 60  Q010                    object \n",
      " 61  Q011                    object \n",
      " 62  Q012                    object \n",
      " 63  Q013                    object \n",
      " 64  Q014                    object \n",
      " 65  Q015                    object \n",
      " 66  Q016                    object \n",
      " 67  Q017                    object \n",
      " 68  Q018                    object \n",
      " 69  Q019                    object \n",
      " 70  Q020                    object \n",
      " 71  Q021                    object \n",
      " 72  Q022                    object \n",
      " 73  Q023                    object \n",
      " 74  Q024                    object \n",
      " 75  Q025                    object \n",
      "dtypes: float64(18), int64(17), object(41)\n",
      "memory usage: 3.3+ GB\n"
     ]
    }
   ],
   "source": [
    "enem.info()"
   ]
  },
  {
   "cell_type": "code",
   "execution_count": 9,
   "id": "81275126-626d-4327-b63b-f6faa51d0e47",
   "metadata": {},
   "outputs": [
    {
     "data": {
      "text/plain": [
       "count    27313.000000\n",
       "mean       541.308461\n",
       "std         95.129390\n",
       "min          0.000000\n",
       "25%        470.900000\n",
       "50%        546.700000\n",
       "75%        613.500000\n",
       "max        862.600000\n",
       "Name: NU_NOTA_CH, dtype: float64"
      ]
     },
     "execution_count": 9,
     "metadata": {},
     "output_type": "execute_result"
    }
   ],
   "source": [
    "\n",
    "enem.loc[\n",
    "    (enem.SG_UF_ESC == 'MG') &\n",
    "    (enem.TP_SEXO =='F')\n",
    "].NU_NOTA_CH.describe()"
   ]
  },
  {
   "cell_type": "markdown",
   "id": "f555845e-c5e2-43d8-9f3f-c9c6249cec1d",
   "metadata": {},
   "source": [
    "# Pergunta 1 \n",
    "Qual é a média da nota em matemática dos alunos que estudaram numa escola em Minas Gerais?"
   ]
  },
  {
   "cell_type": "code",
   "execution_count": 10,
   "id": "47772453-882a-4687-a4b3-f1ad795b383e",
   "metadata": {},
   "outputs": [
    {
     "data": {
      "text/plain": [
       "count    46999.000000\n",
       "mean       579.681223\n",
       "std        124.704787\n",
       "min          0.000000\n",
       "25%        482.300000\n",
       "50%        583.000000\n",
       "75%        666.400000\n",
       "max        975.000000\n",
       "Name: NU_NOTA_MT, dtype: float64"
      ]
     },
     "execution_count": 10,
     "metadata": {},
     "output_type": "execute_result"
    }
   ],
   "source": [
    "\n",
    "enem.loc[\n",
    "    enem.SG_UF_ESC == 'MG'\n",
    "].NU_NOTA_MT.describe()"
   ]
  },
  {
   "cell_type": "markdown",
   "id": "7653442c-8b97-4c0f-8687-d48a3810a875",
   "metadata": {},
   "source": [
    "# Pergunta 2\n",
    "Qual é a média da nota em Linguagens e Códigos dos alunos que estudaram numa escola em Minas Gerais?"
   ]
  },
  {
   "cell_type": "code",
   "execution_count": 11,
   "id": "525276a0-b98a-4605-b640-83628253993b",
   "metadata": {},
   "outputs": [
    {
     "data": {
      "text/plain": [
       "count    48575.000000\n",
       "mean       553.010291\n",
       "std         69.287383\n",
       "min          0.000000\n",
       "25%        513.700000\n",
       "50%        560.300000\n",
       "75%        601.200000\n",
       "max        759.600000\n",
       "Name: NU_NOTA_LC, dtype: float64"
      ]
     },
     "execution_count": 11,
     "metadata": {},
     "output_type": "execute_result"
    }
   ],
   "source": [
    "enem.loc[\n",
    "    enem.SG_UF_ESC == 'MG'\n",
    "].NU_NOTA_LC.describe()"
   ]
  },
  {
   "cell_type": "markdown",
   "id": "f8ccd86d-f76a-4128-b24e-4137001f613f",
   "metadata": {},
   "source": [
    "# Pergunta 3\n",
    "Qual é a média da nota em Ciências Humanas dos alunos do sexo FEMININO que estudaram numa escola em Minas Gerais?"
   ]
  },
  {
   "cell_type": "code",
   "execution_count": 14,
   "id": "f2409b0e-9728-4497-9de0-922578fb7d82",
   "metadata": {},
   "outputs": [
    {
     "data": {
      "text/plain": [
       "count    27313.000000\n",
       "mean       541.308461\n",
       "std         95.129390\n",
       "min          0.000000\n",
       "25%        470.900000\n",
       "50%        546.700000\n",
       "75%        613.500000\n",
       "max        862.600000\n",
       "Name: NU_NOTA_CH, dtype: float64"
      ]
     },
     "execution_count": 14,
     "metadata": {},
     "output_type": "execute_result"
    }
   ],
   "source": [
    "\n",
    "enem.loc[\n",
    "    (enem.SG_UF_ESC == 'MG') &\n",
    "    (enem.TP_SEXO =='F')\n",
    "].NU_NOTA_CH.describe()"
   ]
  },
  {
   "cell_type": "markdown",
   "id": "2d18ce9e-a1f5-48f2-8b29-5d8e07da2af8",
   "metadata": {},
   "source": [
    "# Pergunta 4\n",
    "Qual é a média da nota em Ciências Humanas dos alunos do sexo MASCULINO que estudaram numa escola em Minas Gerais?"
   ]
  },
  {
   "cell_type": "code",
   "execution_count": 15,
   "id": "79d98cdf-3d2e-43e9-be95-a0c166dbba85",
   "metadata": {},
   "outputs": [
    {
     "data": {
      "text/plain": [
       "count    21262.000000\n",
       "mean       559.554684\n",
       "std         94.888096\n",
       "min          0.000000\n",
       "25%        498.000000\n",
       "50%        569.300000\n",
       "75%        627.800000\n",
       "max        844.000000\n",
       "Name: NU_NOTA_CH, dtype: float64"
      ]
     },
     "execution_count": 15,
     "metadata": {},
     "output_type": "execute_result"
    }
   ],
   "source": [
    "enem.loc[\n",
    "    (enem.SG_UF_ESC == 'MG') &\n",
    "    (enem.TP_SEXO =='M')\n",
    "].NU_NOTA_CH.describe()"
   ]
  },
  {
   "cell_type": "markdown",
   "id": "81b61c33-e881-4776-8ed3-181fcaf037e2",
   "metadata": {},
   "source": [
    "# Pergunta 5\n",
    "Qual é a média da nota em Matemática dos alunos do sexo FEMININO que estudaram numa escola na cidade de Montes Claros?"
   ]
  },
  {
   "cell_type": "code",
   "execution_count": 18,
   "id": "e54898f9-52df-4ba6-92c0-78639d630f81",
   "metadata": {},
   "outputs": [
    {
     "data": {
      "text/plain": [
       "count    842.000000\n",
       "mean     562.988836\n",
       "std      119.993797\n",
       "min      329.200000\n",
       "25%      470.175000\n",
       "50%      568.500000\n",
       "75%      647.400000\n",
       "max      922.200000\n",
       "Name: NU_NOTA_MT, dtype: float64"
      ]
     },
     "execution_count": 18,
     "metadata": {},
     "output_type": "execute_result"
    }
   ],
   "source": [
    "enem.loc[\n",
    "    (enem.TP_SEXO =='F') &\n",
    "    (enem.NO_MUNICIPIO_ESC == 'Montes Claros')\n",
    "].NU_NOTA_MT.describe()"
   ]
  },
  {
   "cell_type": "markdown",
   "id": "8b2949d7-b162-417d-90d2-a67a33d64d3f",
   "metadata": {},
   "source": [
    "# Pergunta 6\n",
    "Qual é a média da nota em Matemática dos alunos que estudaram numa escola no município de Sabará e que possuem TV por assinatura na residência?"
   ]
  },
  {
   "cell_type": "code",
   "execution_count": 20,
   "id": "2fbd4117-b0be-444b-ac68-cf9e3e3cb33c",
   "metadata": {},
   "outputs": [
    {
     "data": {
      "text/plain": [
       "count     67.000000\n",
       "mean     580.102985\n",
       "std      121.578984\n",
       "min      360.900000\n",
       "25%      491.800000\n",
       "50%      597.300000\n",
       "75%      672.100000\n",
       "max      803.900000\n",
       "Name: NU_NOTA_MT, dtype: float64"
      ]
     },
     "execution_count": 20,
     "metadata": {},
     "output_type": "execute_result"
    }
   ],
   "source": [
    "enem.loc[\n",
    "    (enem.NO_MUNICIPIO_ESC == 'Sabará') &\n",
    "    (enem.Q021 == 'B')\n",
    "].NU_NOTA_MT.describe()"
   ]
  },
  {
   "cell_type": "markdown",
   "id": "233ae72f-aef6-498f-a122-64ac5abe5679",
   "metadata": {},
   "source": [
    "# Pergunta 7\n",
    "Qual é a média da nota em Ciências Humanas dos alunos que estudaram numa escola em Minas Gerais e que possuem dois fornos micro-ondas em casa?"
   ]
  },
  {
   "cell_type": "code",
   "execution_count": 21,
   "id": "38b537e8-f901-4ded-b168-4c28d38de105",
   "metadata": {},
   "outputs": [
    {
     "data": {
      "text/plain": [
       "count    396.000000\n",
       "mean     601.482576\n",
       "std       92.434640\n",
       "min      343.600000\n",
       "25%      554.150000\n",
       "50%      614.000000\n",
       "75%      669.200000\n",
       "max      794.000000\n",
       "Name: NU_NOTA_CH, dtype: float64"
      ]
     },
     "execution_count": 21,
     "metadata": {},
     "output_type": "execute_result"
    }
   ],
   "source": [
    "enem.loc[\n",
    "    (enem.SG_UF_ESC == 'MG') &\n",
    "    (enem.Q016 == 'C')\n",
    "].NU_NOTA_CH.describe()"
   ]
  },
  {
   "cell_type": "markdown",
   "id": "6804a6df-94d4-4065-a3c7-ae739d17e41b",
   "metadata": {},
   "source": [
    "# Pergunta 8\n",
    "Qual é a nota média em Matemática dos alunos que estudaram numa escola em Minas Gerais e cuja mãe completou a pós-graduação?"
   ]
  },
  {
   "cell_type": "code",
   "execution_count": 22,
   "id": "48355b29-b76b-4716-96b1-6463eb73337e",
   "metadata": {},
   "outputs": [
    {
     "data": {
      "text/plain": [
       "count    8483.000000\n",
       "mean      642.245184\n",
       "std       122.806820\n",
       "min       328.200000\n",
       "25%       561.050000\n",
       "50%       648.800000\n",
       "75%       726.550000\n",
       "max       975.000000\n",
       "Name: NU_NOTA_MT, dtype: float64"
      ]
     },
     "execution_count": 22,
     "metadata": {},
     "output_type": "execute_result"
    }
   ],
   "source": [
    "enem.loc[\n",
    "    (enem.SG_UF_ESC == 'MG') &\n",
    "    (enem.Q002 == 'G')\n",
    "].NU_NOTA_MT.describe()"
   ]
  },
  {
   "cell_type": "markdown",
   "id": "8c583498-1a7f-4ec9-a124-ae0ca6d945ce",
   "metadata": {},
   "source": [
    "# Pergunta 9\n",
    "Qual é a nota média em Matemática dos alunos que estudaram numa escola em Belo Horizonte ou em Conselheiro Lafaiete?"
   ]
  },
  {
   "cell_type": "code",
   "execution_count": 40,
   "id": "cebaea67-e20c-4940-8942-002ab72bfeb4",
   "metadata": {},
   "outputs": [
    {
     "data": {
      "text/plain": [
       "count    8732.000000\n",
       "mean      621.028252\n",
       "std       132.600884\n",
       "min         0.000000\n",
       "25%       523.975000\n",
       "50%       626.400000\n",
       "75%       713.300000\n",
       "max       975.000000\n",
       "Name: NU_NOTA_MT, dtype: float64"
      ]
     },
     "execution_count": 40,
     "metadata": {},
     "output_type": "execute_result"
    }
   ],
   "source": [
    "enem.loc[\n",
    "    (enem.NO_MUNICIPIO_ESC == 'Belo Horizonte') |\n",
    "    (enem.NO_MUNICIPIO_ESC == 'Conselheiro Lafaiete')\n",
    "].NU_NOTA_MT.describe()"
   ]
  },
  {
   "cell_type": "markdown",
   "id": "195a47c9-d283-48cb-a52c-d66369542f34",
   "metadata": {},
   "source": [
    "# Pergunta 10\n",
    "Qual é a nota média em Ciências Humanas dos alunos que estudaram numa escola em Minas Gerais e que moram sozinhos?"
   ]
  },
  {
   "cell_type": "code",
   "execution_count": 42,
   "id": "b53408d4-12f8-4a43-8de7-cc6e8e8ab924",
   "metadata": {},
   "outputs": [
    {
     "data": {
      "text/plain": [
       "count    158.000000\n",
       "mean     537.054430\n",
       "std      116.166617\n",
       "min        0.000000\n",
       "25%      442.900000\n",
       "50%      541.700000\n",
       "75%      618.850000\n",
       "max      758.200000\n",
       "Name: NU_NOTA_CH, dtype: float64"
      ]
     },
     "execution_count": 42,
     "metadata": {},
     "output_type": "execute_result"
    }
   ],
   "source": [
    "enem.loc[\n",
    "   (enem.SG_UF_ESC == 'MG') &\n",
    "   (enem.Q005 == 1)\n",
    "].NU_NOTA_CH.describe()"
   ]
  },
  {
   "cell_type": "markdown",
   "id": "c04589be-35e3-42aa-8759-dc51dfd63ba0",
   "metadata": {},
   "source": [
    "# Pergunta 11\n",
    "Qual é a nota média em Ciências Humanas dos alunos que estudaram numa escola em Minas Gerais, cujo pai completou pós-graduação e possuem renda familiar entre R$ 8.360,01 e R$ 9.405,00?"
   ]
  },
  {
   "cell_type": "code",
   "execution_count": 43,
   "id": "054f86ab-7a1c-4a8a-843d-e56514b29e13",
   "metadata": {},
   "outputs": [
    {
     "data": {
      "text/plain": [
       "count    213.000000\n",
       "mean     623.942254\n",
       "std       86.300778\n",
       "min        0.000000\n",
       "25%      584.900000\n",
       "50%      637.700000\n",
       "75%      680.900000\n",
       "max      769.900000\n",
       "Name: NU_NOTA_CH, dtype: float64"
      ]
     },
     "execution_count": 43,
     "metadata": {},
     "output_type": "execute_result"
    }
   ],
   "source": [
    "enem.loc[\n",
    "   (enem.SG_UF_ESC == 'MG') &\n",
    "   (enem.Q001 == 'G') &\n",
    "   (enem.Q006 == 'L')\n",
    "].NU_NOTA_CH.describe()"
   ]
  },
  {
   "cell_type": "markdown",
   "id": "737de1d6-6cf5-4e84-8a96-294790560025",
   "metadata": {},
   "source": [
    "# Pergunta 12\n",
    "Qual é a nota média em Matemática dos alunos do sexo Feminino que estudaram numa escola em Lavras e escolheram “Espanhol” como língua estrangeira?"
   ]
  },
  {
   "cell_type": "code",
   "execution_count": 46,
   "id": "8e232ca7-2d70-41ac-85a4-c9fe93ba06d1",
   "metadata": {},
   "outputs": [
    {
     "data": {
      "text/plain": [
       "count     96.000000\n",
       "mean     513.383333\n",
       "std      105.603841\n",
       "min      341.400000\n",
       "25%      425.875000\n",
       "50%      505.600000\n",
       "75%      593.675000\n",
       "max      746.100000\n",
       "Name: NU_NOTA_MT, dtype: float64"
      ]
     },
     "execution_count": 46,
     "metadata": {},
     "output_type": "execute_result"
    }
   ],
   "source": [
    "enem.loc[\n",
    "   (enem.SG_UF_ESC == 'MG') &\n",
    "   (enem.TP_SEXO =='F') &\n",
    "   (enem.NO_MUNICIPIO_ESC == 'Lavras') &\n",
    "   (enem.TP_LINGUA == 1)\n",
    "].NU_NOTA_MT.describe()"
   ]
  },
  {
   "cell_type": "markdown",
   "id": "647783b1-d5d9-420d-be9e-218d1992e64a",
   "metadata": {},
   "source": [
    "# Pergunta 13\n",
    "Qual é a nota média em Matemática dos alunos do sexo Masculino que estudaram numa escola em Ouro Preto?"
   ]
  },
  {
   "cell_type": "code",
   "execution_count": 47,
   "id": "85d0f363-01b8-4d61-a42b-43436e4f0bc8",
   "metadata": {},
   "outputs": [
    {
     "data": {
      "text/plain": [
       "count    136.000000\n",
       "mean     615.582353\n",
       "std       98.424854\n",
       "min      379.100000\n",
       "25%      543.175000\n",
       "50%      628.400000\n",
       "75%      686.100000\n",
       "max      821.000000\n",
       "Name: NU_NOTA_MT, dtype: float64"
      ]
     },
     "execution_count": 47,
     "metadata": {},
     "output_type": "execute_result"
    }
   ],
   "source": [
    "enem.loc[\n",
    "   (enem.NO_MUNICIPIO_ESC == 'Ouro Preto') &\n",
    "   (enem.TP_SEXO =='M')\n",
    "].NU_NOTA_MT.describe()"
   ]
  },
  {
   "cell_type": "markdown",
   "id": "e0cc32e2-50b6-4524-9855-ed0d29cf720e",
   "metadata": {},
   "source": [
    "# Pergunta 14\n",
    "Qual é a nota média em Ciências Humanas dos alunos que estudaram numa escola em Minas Gerais e possuem entre 26 e 30 anos?"
   ]
  },
  {
   "cell_type": "code",
   "execution_count": 49,
   "id": "9ab9b5a7-fb09-41ae-938c-89c6e4844c7c",
   "metadata": {},
   "outputs": [
    {
     "data": {
      "text/plain": [
       "count     77.000000\n",
       "mean     473.477922\n",
       "std       71.733505\n",
       "min      344.900000\n",
       "25%      420.500000\n",
       "50%      466.700000\n",
       "75%      525.400000\n",
       "max      654.500000\n",
       "Name: NU_NOTA_CH, dtype: float64"
      ]
     },
     "execution_count": 49,
     "metadata": {},
     "output_type": "execute_result"
    }
   ],
   "source": [
    "enem.loc[\n",
    "   (enem.SG_UF_ESC == 'MG') &\n",
    "   (enem.TP_FAIXA_ETARIA == 11 )\n",
    "].NU_NOTA_CH.describe()"
   ]
  },
  {
   "cell_type": "markdown",
   "id": "352ca851-fe42-45a0-9c07-ec4a5b4c0cb3",
   "metadata": {},
   "source": [
    "# Pergunta 15\n",
    "Qual é a nota média em Matemática dos alunos do sexo FEMININO, que estudaram numa escola em Belo Horizonte, Sabará, Nova Lima ou Betim e estudaram em uma escola privada?"
   ]
  },
  {
   "cell_type": "code",
   "execution_count": 55,
   "id": "474458d6-2c81-49f5-8fe5-56fda74e2175",
   "metadata": {},
   "outputs": [
    {
     "data": {
      "text/plain": [
       "count    2084.000000\n",
       "mean      679.136948\n",
       "std       112.662700\n",
       "min       334.000000\n",
       "25%       605.800000\n",
       "50%       681.900000\n",
       "75%       758.925000\n",
       "max       975.000000\n",
       "Name: NU_NOTA_MT, dtype: float64"
      ]
     },
     "execution_count": 55,
     "metadata": {},
     "output_type": "execute_result"
    }
   ],
   "source": [
    "enem.loc[\n",
    "   ((enem.NO_MUNICIPIO_ESC == 'Belo Horizonte') |\n",
    "   (enem.NO_MUNICIPIO_ESC == 'Sabará') | \n",
    "   (enem.NO_MUNICIPIO_ESC == 'Nova Lima') |\n",
    "   (enem.NO_MUNICIPIO_ESC == 'Betim')) &\n",
    "   (enem.TP_ESCOLA == 3 ) &\n",
    "   (enem.TP_SEXO == 'F')\n",
    "].NU_NOTA_MT.describe()"
   ]
  }
 ],
 "metadata": {
  "kernelspec": {
   "display_name": "Python 3 (ipykernel)",
   "language": "python",
   "name": "python3"
  },
  "language_info": {
   "codemirror_mode": {
    "name": "ipython",
    "version": 3
   },
   "file_extension": ".py",
   "mimetype": "text/x-python",
   "name": "python",
   "nbconvert_exporter": "python",
   "pygments_lexer": "ipython3",
   "version": "3.8.10"
  }
 },
 "nbformat": 4,
 "nbformat_minor": 5
}
